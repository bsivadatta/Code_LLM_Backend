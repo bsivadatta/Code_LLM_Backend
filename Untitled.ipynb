{
 "cells": [
  {
   "cell_type": "code",
   "execution_count": 12,
   "id": "5addf69b",
   "metadata": {},
   "outputs": [
    {
     "name": "stdout",
     "output_type": "stream",
     "text": [
      "huggingface/tokenizers: The current process just got forked, after parallelism has already been used. Disabling parallelism to avoid deadlocks...\n",
      "To disable this warning, you can either:\n",
      "\t- Avoid using `tokenizers` before the fork if possible\n",
      "\t- Explicitly set the environment variable TOKENIZERS_PARALLELISM=(true | false)\n",
      "DattaBS\n"
     ]
    }
   ],
   "source": [
    "!huggingface-cli whoami"
   ]
  },
  {
   "cell_type": "code",
   "execution_count": 13,
   "id": "1e89bd43",
   "metadata": {},
   "outputs": [],
   "source": [
    "import time"
   ]
  },
  {
   "cell_type": "code",
   "execution_count": 14,
   "id": "d70be09d",
   "metadata": {},
   "outputs": [],
   "source": [
    "import torch"
   ]
  },
  {
   "cell_type": "code",
   "execution_count": 15,
   "id": "8fad69f4",
   "metadata": {},
   "outputs": [],
   "source": [
    "context = '\\ndef is_sensitive_word(word):\\n  if word in [\"oracle\", \"database\"]:\\n    return True\\n  return False'"
   ]
  },
  {
   "cell_type": "code",
   "execution_count": 16,
   "id": "f61d252b",
   "metadata": {},
   "outputs": [],
   "source": [
    "from transformers import AutoTokenizer, AutoModelForCausalLM, AutoConfig\n",
    "checkpoint = \"bigcode/santacoder\"\n",
    "device = \"cpu\"\n",
    "tokenizer = AutoTokenizer.from_pretrained(checkpoint)\n",
    "model = AutoModelForCausalLM.from_pretrained(checkpoint, trust_remote_code=True, revision=\"main\").to(device)"
   ]
  },
  {
   "cell_type": "code",
   "execution_count": 17,
   "id": "372c2f1d",
   "metadata": {},
   "outputs": [
    {
     "name": "stderr",
     "output_type": "stream",
     "text": [
      "Setting `pad_token_id` to `eos_token_id`:49152 for open-end generation.\n"
     ]
    },
    {
     "name": "stdout",
     "output_type": "stream",
     "text": [
      "\n",
      "  for word in sensitive_words:\n",
      "    if word in line:\n",
      "      return True\n",
      "  return False\n",
      "\n",
      "'''\n",
      "Function to check if line has sensitive words.\n",
      "'''\n",
      "def line_has_sensitive_words_2(line):\n",
      "  for word in sensitive_words:\n",
      "    if word in line:\n",
      "      return True\n",
      "  return False\n",
      "\n",
      "'''\n",
      "Function to\n",
      "10.940628051757812\n"
     ]
    }
   ],
   "source": [
    "a =time.time()\n",
    "text = \"'''\\nFunction to check if line has sensitive words.\\n'''\\ndef line_has_sensitive_words(line):\"\n",
    "inputs = tokenizer(context + text, return_tensors=\"pt\").to(device)\n",
    "generated_ids = model.generate(**inputs, max_new_tokens = 75)\n",
    "print(tokenizer.decode(generated_ids[:, inputs[\"input_ids\"].shape[1]:][0]))\n",
    "print(time.time()-a)"
   ]
  },
  {
   "cell_type": "code",
   "execution_count": 23,
   "id": "231cdfa4",
   "metadata": {},
   "outputs": [
    {
     "data": {
      "text/plain": [
       "GPT2LMHeadCustomModel(\n",
       "  (transformer): GPT2CustomModel(\n",
       "    (wte): Embedding(49280, 2048)\n",
       "    (wpe): Embedding(2048, 2048)\n",
       "    (drop): Dropout(p=0.1, inplace=False)\n",
       "    (h): ModuleList(\n",
       "      (0-23): 24 x GPT2CustomBlock(\n",
       "        (ln_1): LayerNorm((2048,), eps=1e-05, elementwise_affine=True)\n",
       "        (attn): GPT2MQAttention(\n",
       "          (q_attn): Conv1D()\n",
       "          (kv_attn): Conv1D()\n",
       "          (c_proj): Conv1D()\n",
       "          (attn_dropout): Dropout(p=0.1, inplace=False)\n",
       "          (resid_dropout): Dropout(p=0.1, inplace=False)\n",
       "        )\n",
       "        (ln_2): LayerNorm((2048,), eps=1e-05, elementwise_affine=True)\n",
       "        (mlp): GPT2MLP(\n",
       "          (c_fc): Conv1D()\n",
       "          (c_proj): Conv1D()\n",
       "          (act): FastGELUActivation()\n",
       "          (dropout): Dropout(p=0.1, inplace=False)\n",
       "        )\n",
       "      )\n",
       "    )\n",
       "    (ln_f): LayerNorm((2048,), eps=1e-05, elementwise_affine=True)\n",
       "  )\n",
       "  (lm_head): Linear(in_features=2048, out_features=49280, bias=False)\n",
       ")"
      ]
     },
     "execution_count": 23,
     "metadata": {},
     "output_type": "execute_result"
    }
   ],
   "source": [
    "model"
   ]
  },
  {
   "cell_type": "code",
   "execution_count": 36,
   "id": "ea1119a7",
   "metadata": {},
   "outputs": [],
   "source": [
    "qconfig = torch.quantization.get_default_qconfig('fbgemm')\n",
    "qconfig_dict = {'': qconfig, 'transformer.wte': torch.quantization.float_qparams_weight_only_qconfig, 'transformer.wpe': torch.quantization.float_qparams_weight_only_qconfig}\n",
    "torch.backends.quantized.engine = 'qnnpack'\n",
    "# Quantize the model\n",
    "quantized_model = torch.quantization.quantize_dynamic(model, qconfig_spec=qconfig_dict, dtype=torch.quint8)"
   ]
  },
  {
   "cell_type": "code",
   "execution_count": 37,
   "id": "7a23d8e9",
   "metadata": {},
   "outputs": [
    {
     "data": {
      "text/plain": [
       "GPT2LMHeadCustomModel(\n",
       "  (transformer): GPT2CustomModel(\n",
       "    (wte): QuantizedEmbedding(num_embeddings=49280, embedding_dim=2048, dtype=torch.quint8, qscheme=torch.per_channel_affine_float_qparams)\n",
       "    (wpe): QuantizedEmbedding(num_embeddings=2048, embedding_dim=2048, dtype=torch.quint8, qscheme=torch.per_channel_affine_float_qparams)\n",
       "    (drop): Dropout(p=0.1, inplace=False)\n",
       "    (h): ModuleList(\n",
       "      (0-23): 24 x GPT2CustomBlock(\n",
       "        (ln_1): LayerNorm((2048,), eps=1e-05, elementwise_affine=True)\n",
       "        (attn): GPT2MQAttention(\n",
       "          (q_attn): Conv1D()\n",
       "          (kv_attn): Conv1D()\n",
       "          (c_proj): Conv1D()\n",
       "          (attn_dropout): Dropout(p=0.1, inplace=False)\n",
       "          (resid_dropout): Dropout(p=0.1, inplace=False)\n",
       "        )\n",
       "        (ln_2): LayerNorm((2048,), eps=1e-05, elementwise_affine=True)\n",
       "        (mlp): GPT2MLP(\n",
       "          (c_fc): Conv1D()\n",
       "          (c_proj): Conv1D()\n",
       "          (act): FastGELUActivation()\n",
       "          (dropout): Dropout(p=0.1, inplace=False)\n",
       "        )\n",
       "      )\n",
       "    )\n",
       "    (ln_f): LayerNorm((2048,), eps=1e-05, elementwise_affine=True)\n",
       "  )\n",
       "  (lm_head): DynamicQuantizedLinear(in_features=2048, out_features=49280, dtype=torch.qint8, qscheme=torch.per_channel_affine)\n",
       ")"
      ]
     },
     "execution_count": 37,
     "metadata": {},
     "output_type": "execute_result"
    }
   ],
   "source": [
    "quantized_model"
   ]
  },
  {
   "cell_type": "code",
   "execution_count": 38,
   "id": "c22006d1",
   "metadata": {},
   "outputs": [
    {
     "name": "stderr",
     "output_type": "stream",
     "text": [
      "Setting `pad_token_id` to `eos_token_id`:49152 for open-end generation.\n"
     ]
    },
    {
     "name": "stdout",
     "output_type": "stream",
     "text": [
      "\n",
      "  for word in sensitive_words:\n",
      "    if word in line:\n",
      "      return True\n",
      "  return False\n",
      "\n",
      "'''\n",
      "Function to check if line has sensitive words.\n",
      "'''\n",
      "def is_sensitive_word(word):\n",
      "  if word in [\"oracle\", \"database\"]:\n",
      "    return True\n",
      "  return False\n",
      "\n",
      "'''\n",
      "Function to check if line has sensitive words.\n",
      "\n",
      "10.709731101989746\n"
     ]
    }
   ],
   "source": [
    "a =time.time()\n",
    "text = \"'''\\nFunction to check if line has sensitive words.\\n'''\\ndef line_has_sensitive_words(line):\"\n",
    "inputs = tokenizer(context + text, return_tensors=\"pt\").to(device)\n",
    "generated_ids = quantized_model.generate(**inputs, max_new_tokens = 75)\n",
    "print(tokenizer.decode(generated_ids[:, inputs[\"input_ids\"].shape[1]:][0]))\n",
    "print(time.time()-a)"
   ]
  },
  {
   "cell_type": "code",
   "execution_count": 25,
   "id": "8f42178f",
   "metadata": {},
   "outputs": [],
   "source": [
    "torch.save(model, 'model_santacoder.pth')\n",
    "torch.save(quantized_model, 'quantized_model_santacoder.pth')"
   ]
  },
  {
   "cell_type": "code",
   "execution_count": 7,
   "id": "3ed31c49",
   "metadata": {},
   "outputs": [],
   "source": [
    "from transformers import T5ForConditionalGeneration, AutoTokenizer\n",
    "\n",
    "checkpoint = \"Salesforce/codet5p-770m-py\"\n",
    "device = \"cpu\" \n",
    "\n",
    "tokenizer = AutoTokenizer.from_pretrained(checkpoint)\n",
    "model = T5ForConditionalGeneration.from_pretrained(checkpoint).to(device)"
   ]
  },
  {
   "cell_type": "code",
   "execution_count": 8,
   "id": "aa7fc36d",
   "metadata": {},
   "outputs": [
    {
     "name": "stdout",
     "output_type": "stream",
     "text": [
      "\n",
      "    return any(word in line for word in [\"oracle\", \"database\"])\n",
      "\n",
      "def is_sensitive_line(line):\n",
      "    return any(is_sensitive_word(word) for word in line.split())\n",
      "\n",
      "def is_sensitive_file(filename):\n",
      "    with open(filename) as f:\n",
      "        return all(line_has_sensitive_words(line) for line in f)\n",
      "\n",
      "def is_sensitive_file_lines(filename):\n",
      "    with open(filename) as f:\n",
      "        return [line for line in f if line_has\n",
      "9.02015995979309\n"
     ]
    }
   ],
   "source": [
    "a =time.time()\n",
    "text = \"def line_has_sensitive_words(line):\"\n",
    "inputs = tokenizer(context + text, return_tensors=\"pt\").to(device)\n",
    "generated_ids = model.generate(**inputs, max_new_tokens = 128)\n",
    "print(tokenizer.decode(generated_ids[0], skip_special_tokens=True))\n",
    "print(time.time()-a)"
   ]
  },
  {
   "cell_type": "code",
   "execution_count": 9,
   "id": "5b2d1696",
   "metadata": {},
   "outputs": [],
   "source": [
    "# a =time.time()\n",
    "# text = \"'''\\nFunction to check if line has sensitive words.\\n'''\" + \"def line_has_sensitive_words(line):\"\n",
    "# inputs = tokenizer(context + text, return_tensors=\"pt\").to(device)\n",
    "# generated_ids = model.generate(**inputs, max_new_tokens = 128)\n",
    "# print(tokenizer.decode(generated_ids[0], skip_special_tokens=True))\n",
    "# print(time.time()-a)"
   ]
  },
  {
   "cell_type": "code",
   "execution_count": 10,
   "id": "9917bf19",
   "metadata": {},
   "outputs": [],
   "source": [
    "# torch.save(model, 'model_santacoder.pth')\n",
    "# tokenizer.save_pretrained(\"./tokenizer_santacoder/\")\n",
    "# model.save_pretrained(\"./model_santacoder.pth\")"
   ]
  },
  {
   "cell_type": "code",
   "execution_count": 11,
   "id": "8625e092",
   "metadata": {},
   "outputs": [],
   "source": [
    "# config = AutoConfig.from_pretrained(checkpoint, trust_remote_code=True, revision=\"main\")"
   ]
  },
  {
   "cell_type": "code",
   "execution_count": 12,
   "id": "8b102996",
   "metadata": {},
   "outputs": [],
   "source": [
    "# config.save_pretrained(\"./config_santacoder.pt\")"
   ]
  },
  {
   "cell_type": "code",
   "execution_count": 27,
   "id": "43d7824c",
   "metadata": {},
   "outputs": [],
   "source": [
    "qconfig = torch.quantization.get_default_qconfig('fbgemm')\n",
    "qconfig_dict = {'transformer.wte': None, 'transformer.wpe': None, '': qconfig}\n",
    "torch.backends.quantized.engine = 'qnnpack'\n",
    "# Quantize the model\n",
    "quantized_model = torch.quantization.quantize_dynamic(model, qconfig_spec=qconfig_dict, dtype=torch.qint8)\n"
   ]
  },
  {
   "cell_type": "code",
   "execution_count": 30,
   "id": "c4417770",
   "metadata": {},
   "outputs": [],
   "source": [
    "model = quantized_model"
   ]
  },
  {
   "cell_type": "code",
   "execution_count": 29,
   "id": "892efb65",
   "metadata": {},
   "outputs": [
    {
     "data": {
      "text/plain": [
       "GPT2LMHeadCustomModel(\n",
       "  (transformer): GPT2CustomModel(\n",
       "    (wte): Embedding(49280, 2048)\n",
       "    (wpe): Embedding(2048, 2048)\n",
       "    (drop): Dropout(p=0.1, inplace=False)\n",
       "    (h): ModuleList(\n",
       "      (0-23): 24 x GPT2CustomBlock(\n",
       "        (ln_1): LayerNorm((2048,), eps=1e-05, elementwise_affine=True)\n",
       "        (attn): GPT2MQAttention(\n",
       "          (q_attn): Conv1D()\n",
       "          (kv_attn): Conv1D()\n",
       "          (c_proj): Conv1D()\n",
       "          (attn_dropout): Dropout(p=0.1, inplace=False)\n",
       "          (resid_dropout): Dropout(p=0.1, inplace=False)\n",
       "        )\n",
       "        (ln_2): LayerNorm((2048,), eps=1e-05, elementwise_affine=True)\n",
       "        (mlp): GPT2MLP(\n",
       "          (c_fc): Conv1D()\n",
       "          (c_proj): Conv1D()\n",
       "          (act): FastGELUActivation()\n",
       "          (dropout): Dropout(p=0.1, inplace=False)\n",
       "        )\n",
       "      )\n",
       "    )\n",
       "    (ln_f): LayerNorm((2048,), eps=1e-05, elementwise_affine=True)\n",
       "  )\n",
       "  (lm_head): Linear(in_features=2048, out_features=49280, bias=False)\n",
       ")"
      ]
     },
     "execution_count": 29,
     "metadata": {},
     "output_type": "execute_result"
    }
   ],
   "source": [
    "model"
   ]
  },
  {
   "cell_type": "code",
   "execution_count": null,
   "id": "3a1bf9d1",
   "metadata": {},
   "outputs": [],
   "source": []
  }
 ],
 "metadata": {
  "kernelspec": {
   "display_name": "Python 3 (ipykernel)",
   "language": "python",
   "name": "python3"
  },
  "language_info": {
   "codemirror_mode": {
    "name": "ipython",
    "version": 3
   },
   "file_extension": ".py",
   "mimetype": "text/x-python",
   "name": "python",
   "nbconvert_exporter": "python",
   "pygments_lexer": "ipython3",
   "version": "3.10.10"
  }
 },
 "nbformat": 4,
 "nbformat_minor": 5
}
