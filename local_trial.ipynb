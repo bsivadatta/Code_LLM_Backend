{
 "cells": [
  {
   "cell_type": "code",
   "execution_count": 5,
   "id": "ce93872a",
   "metadata": {},
   "outputs": [],
   "source": [
    "import torch, time\n",
    "from transformers import AutoTokenizer, AutoModelForCausalLM"
   ]
  },
  {
   "cell_type": "code",
   "execution_count": 7,
   "id": "d033cc0f",
   "metadata": {},
   "outputs": [],
   "source": [
    "device = 'cpu'"
   ]
  },
  {
   "cell_type": "code",
   "execution_count": 7,
   "id": "9c1de256",
   "metadata": {},
   "outputs": [],
   "source": [
    "config = AutoConfig.from_pretrained(\"./config_\" + llm_model + \".pt\", trust_remote_code=True, revision=\"main\")"
   ]
  },
  {
   "cell_type": "code",
   "execution_count": 10,
   "id": "b4ffff88",
   "metadata": {},
   "outputs": [],
   "source": [
    "tokenizer = AutoTokenizer.from_pretrained(\"Salesforce/codegen2-1B\")\n",
    "model = AutoModelForCausalLM.from_pretrained(\"Salesforce/codegen2-1B\", trust_remote_code=True, revision=\"main\")"
   ]
  },
  {
   "cell_type": "code",
   "execution_count": 14,
   "id": "18632eb3",
   "metadata": {},
   "outputs": [],
   "source": [
    "context = \"\"\"\n",
    "special_numbers = [2, 5, 7]\n",
    "special_words = [\"two\", \"five\", \"seven\"]\n",
    "\n",
    "# Function to check if number is in special numbers\n",
    "\"\"\""
   ]
  },
  {
   "cell_type": "code",
   "execution_count": 17,
   "id": "a17d3514",
   "metadata": {},
   "outputs": [
    {
     "name": "stderr",
     "output_type": "stream",
     "text": [
      "Setting `pad_token_id` to `eos_token_id`:2 for open-end generation.\n"
     ]
    },
    {
     "name": "stdout",
     "output_type": "stream",
     "text": [
      "\n",
      "special_numbers = [2, 5, 7]\n",
      "special_words = [\"two\", \"five\", \"seven\"]\n",
      "\n",
      "# Function to check if number is in special numbers\n",
      "def is_special(number):\n",
      "    for special_number in special_numbers:\n",
      "        if number == special_number:\n",
      "            return True\n",
      "    return False\n",
      "\n",
      "#\n",
      "8.992382049560547\n"
     ]
    }
   ],
   "source": [
    "a =time.time()\n",
    "inputs = tokenizer(context, return_tensors=\"pt\").to(device)\n",
    "sample = model.generate(**inputs, max_length=40+len(context))\n",
    "print(tokenizer.decode(sample[0]))\n",
    "print(time.time()-a)"
   ]
  },
  {
   "cell_type": "code",
   "execution_count": null,
   "id": "1f3d6486",
   "metadata": {},
   "outputs": [],
   "source": []
  }
 ],
 "metadata": {
  "kernelspec": {
   "display_name": "Python 3 (ipykernel)",
   "language": "python",
   "name": "python3"
  },
  "language_info": {
   "codemirror_mode": {
    "name": "ipython",
    "version": 3
   },
   "file_extension": ".py",
   "mimetype": "text/x-python",
   "name": "python",
   "nbconvert_exporter": "python",
   "pygments_lexer": "ipython3",
   "version": "3.10.10"
  }
 },
 "nbformat": 4,
 "nbformat_minor": 5
}
